{
 "cells": [
  {
   "cell_type": "code",
   "execution_count": 2,
   "id": "4e8af49e",
   "metadata": {},
   "outputs": [],
   "source": [
    "import gensim"
   ]
  },
  {
   "cell_type": "code",
   "execution_count": 3,
   "id": "6ba52111",
   "metadata": {},
   "outputs": [],
   "source": [
    "model = gensim.models.Word2Vec.load(\"word2vec_test.model\")"
   ]
  },
  {
   "cell_type": "code",
   "execution_count": 4,
   "id": "a5478fdc",
   "metadata": {},
   "outputs": [
    {
     "data": {
      "text/plain": [
       "[('decent', 0.863539457321167),\n",
       " ('great', 0.7678033113479614),\n",
       " ('nice', 0.6867431998252869),\n",
       " ('fantast', 0.6789023876190186),\n",
       " ('excel', 0.6010145545005798),\n",
       " ('high', 0.5832275152206421),\n",
       " ('awesom', 0.5528854727745056),\n",
       " ('superb', 0.5227035284042358),\n",
       " ('sweet', 0.5150555372238159),\n",
       " ('fair', 0.512129008769989)]"
      ]
     },
     "execution_count": 4,
     "metadata": {},
     "output_type": "execute_result"
    }
   ],
   "source": [
    "model.wv.most_similar(\"good\")"
   ]
  },
  {
   "cell_type": "code",
   "execution_count": 5,
   "id": "6024d50d",
   "metadata": {},
   "outputs": [
    {
     "data": {
      "text/plain": [
       "gensim.models.word2vec.Word2Vec"
      ]
     },
     "execution_count": 5,
     "metadata": {},
     "output_type": "execute_result"
    }
   ],
   "source": [
    "type(model)"
   ]
  },
  {
   "cell_type": "code",
   "execution_count": 12,
   "id": "fe37cf34",
   "metadata": {},
   "outputs": [
    {
     "data": {
      "text/plain": [
       "[('qualiti', 0.5788449),\n",
       " ('valu', 0.1708667),\n",
       " ('luck', 0.1370744),\n",
       " ('price', 0.03272628),\n",
       " ('deal', 0.020527627),\n",
       " ('news', 0.017715726),\n",
       " ('idea', 0.005973732),\n",
       " ('look', 0.0015202618),\n",
       " ('pretti', 0.0012766592),\n",
       " ('invest', 0.00084548205)]"
      ]
     },
     "execution_count": 12,
     "metadata": {},
     "output_type": "execute_result"
    }
   ],
   "source": [
    "a = model.predict_output_word(['good'], topn=10)\n",
    "a"
   ]
  }
 ],
 "metadata": {
  "kernelspec": {
   "display_name": "Python 3",
   "language": "python",
   "name": "python3"
  },
  "language_info": {
   "codemirror_mode": {
    "name": "ipython",
    "version": 3
   },
   "file_extension": ".py",
   "mimetype": "text/x-python",
   "name": "python",
   "nbconvert_exporter": "python",
   "pygments_lexer": "ipython3",
   "version": "3.8.8"
  }
 },
 "nbformat": 4,
 "nbformat_minor": 5
}
