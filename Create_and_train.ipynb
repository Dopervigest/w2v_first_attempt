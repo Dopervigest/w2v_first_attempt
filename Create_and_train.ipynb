{
 "cells": [
  {
   "cell_type": "code",
   "execution_count": 18,
   "id": "06fa57f1",
   "metadata": {},
   "outputs": [],
   "source": [
    "import gensim\n",
    "import pandas as pd\n",
    "from nltk.stem import PorterStemmer\n",
    "from tqdm.notebook import tqdm\n",
    "tqdm.pandas()"
   ]
  },
  {
   "cell_type": "code",
   "execution_count": 2,
   "id": "5c06b140",
   "metadata": {},
   "outputs": [
    {
     "data": {
      "text/plain": [
       "'This works no better than any 3/32 punch you would find at the hardware store. Actually, I think you would be better with a regular punch as it has more to hold on to.'"
      ]
     },
     "execution_count": 2,
     "metadata": {},
     "output_type": "execute_result"
    }
   ],
   "source": [
    "df = pd.read_json(\"Sports_and_Outdoors_5.json\", lines=True)\n",
    "df.head(5)\n",
    "df.reviewText.loc[3]"
   ]
  },
  {
   "cell_type": "code",
   "execution_count": 3,
   "id": "e9a8c78a",
   "metadata": {},
   "outputs": [
    {
     "data": {
      "text/plain": [
       "(296337, 9)"
      ]
     },
     "execution_count": 3,
     "metadata": {},
     "output_type": "execute_result"
    }
   ],
   "source": [
    "df.shape"
   ]
  },
  {
   "cell_type": "code",
   "execution_count": 21,
   "id": "d7b5235f",
   "metadata": {
    "scrolled": true
   },
   "outputs": [
    {
     "data": {
      "text/html": [
       "<div>\n",
       "<style scoped>\n",
       "    .dataframe tbody tr th:only-of-type {\n",
       "        vertical-align: middle;\n",
       "    }\n",
       "\n",
       "    .dataframe tbody tr th {\n",
       "        vertical-align: top;\n",
       "    }\n",
       "\n",
       "    .dataframe thead th {\n",
       "        text-align: right;\n",
       "    }\n",
       "</style>\n",
       "<table border=\"1\" class=\"dataframe\">\n",
       "  <thead>\n",
       "    <tr style=\"text-align: right;\">\n",
       "      <th></th>\n",
       "      <th>reviewerID</th>\n",
       "      <th>asin</th>\n",
       "      <th>reviewerName</th>\n",
       "      <th>helpful</th>\n",
       "      <th>reviewText</th>\n",
       "      <th>overall</th>\n",
       "      <th>summary</th>\n",
       "      <th>unixReviewTime</th>\n",
       "      <th>reviewTime</th>\n",
       "    </tr>\n",
       "  </thead>\n",
       "  <tbody>\n",
       "    <tr>\n",
       "      <th>0</th>\n",
       "      <td>AIXZKN4ACSKI</td>\n",
       "      <td>1881509818</td>\n",
       "      <td>David Briner</td>\n",
       "      <td>[0, 0]</td>\n",
       "      <td>This came in on time and I am veru happy with ...</td>\n",
       "      <td>5</td>\n",
       "      <td>Woks very good</td>\n",
       "      <td>1390694400</td>\n",
       "      <td>01 26, 2014</td>\n",
       "    </tr>\n",
       "    <tr>\n",
       "      <th>1</th>\n",
       "      <td>A1L5P841VIO02V</td>\n",
       "      <td>1881509818</td>\n",
       "      <td>Jason A. Kramer</td>\n",
       "      <td>[1, 1]</td>\n",
       "      <td>I had a factory Glock tool that I was using fo...</td>\n",
       "      <td>5</td>\n",
       "      <td>Works as well as the factory tool</td>\n",
       "      <td>1328140800</td>\n",
       "      <td>02 2, 2012</td>\n",
       "    </tr>\n",
       "    <tr>\n",
       "      <th>2</th>\n",
       "      <td>AB2W04NI4OEAD</td>\n",
       "      <td>1881509818</td>\n",
       "      <td>J. Fernald</td>\n",
       "      <td>[2, 2]</td>\n",
       "      <td>If you don't have a 3/32 punch or would like t...</td>\n",
       "      <td>4</td>\n",
       "      <td>It's a punch, that's all.</td>\n",
       "      <td>1330387200</td>\n",
       "      <td>02 28, 2012</td>\n",
       "    </tr>\n",
       "    <tr>\n",
       "      <th>3</th>\n",
       "      <td>A148SVSWKTJKU6</td>\n",
       "      <td>1881509818</td>\n",
       "      <td>Jusitn A. Watts \"Maverick9614\"</td>\n",
       "      <td>[0, 0]</td>\n",
       "      <td>This works no better than any 3/32 punch you w...</td>\n",
       "      <td>4</td>\n",
       "      <td>It's a punch with a Glock logo.</td>\n",
       "      <td>1328400000</td>\n",
       "      <td>02 5, 2012</td>\n",
       "    </tr>\n",
       "    <tr>\n",
       "      <th>4</th>\n",
       "      <td>AAAWJ6LW9WMOO</td>\n",
       "      <td>1881509818</td>\n",
       "      <td>Material Man</td>\n",
       "      <td>[0, 0]</td>\n",
       "      <td>I purchased this thinking maybe I need a speci...</td>\n",
       "      <td>4</td>\n",
       "      <td>Ok,tool does what a regular punch does.</td>\n",
       "      <td>1366675200</td>\n",
       "      <td>04 23, 2013</td>\n",
       "    </tr>\n",
       "    <tr>\n",
       "      <th>...</th>\n",
       "      <td>...</td>\n",
       "      <td>...</td>\n",
       "      <td>...</td>\n",
       "      <td>...</td>\n",
       "      <td>...</td>\n",
       "      <td>...</td>\n",
       "      <td>...</td>\n",
       "      <td>...</td>\n",
       "      <td>...</td>\n",
       "    </tr>\n",
       "    <tr>\n",
       "      <th>199995</th>\n",
       "      <td>A15B3F1CO7JBYW</td>\n",
       "      <td>B003Y5AGCA</td>\n",
       "      <td>Tim Schrage</td>\n",
       "      <td>[0, 0]</td>\n",
       "      <td>Solidly enough made to accomodate a Hi-Point ....</td>\n",
       "      <td>4</td>\n",
       "      <td>Works great</td>\n",
       "      <td>1381363200</td>\n",
       "      <td>10 10, 2013</td>\n",
       "    </tr>\n",
       "    <tr>\n",
       "      <th>199996</th>\n",
       "      <td>A3KCX0DU4ZF439</td>\n",
       "      <td>B003Y5C132</td>\n",
       "      <td>Apex Predator</td>\n",
       "      <td>[0, 4]</td>\n",
       "      <td>Nothing to really say. It looks like the pictu...</td>\n",
       "      <td>5</td>\n",
       "      <td>Perfect</td>\n",
       "      <td>1318464000</td>\n",
       "      <td>10 13, 2011</td>\n",
       "    </tr>\n",
       "    <tr>\n",
       "      <th>199997</th>\n",
       "      <td>A3V16CPB7YE3VD</td>\n",
       "      <td>B003Y5C132</td>\n",
       "      <td>A-WAX</td>\n",
       "      <td>[2, 2]</td>\n",
       "      <td>Arrived on time. The inside looks wonderful. W...</td>\n",
       "      <td>1</td>\n",
       "      <td>RUSTED OUT!</td>\n",
       "      <td>1386028800</td>\n",
       "      <td>12 3, 2013</td>\n",
       "    </tr>\n",
       "    <tr>\n",
       "      <th>199998</th>\n",
       "      <td>A379VGIWYYYK2M</td>\n",
       "      <td>B003Y5C132</td>\n",
       "      <td>BackBone</td>\n",
       "      <td>[0, 0]</td>\n",
       "      <td>Holds all my ammo just perfect. I put 12 gage ...</td>\n",
       "      <td>5</td>\n",
       "      <td>Perfect.</td>\n",
       "      <td>1371945600</td>\n",
       "      <td>06 23, 2013</td>\n",
       "    </tr>\n",
       "    <tr>\n",
       "      <th>199999</th>\n",
       "      <td>ACONUV5L0KG6Z</td>\n",
       "      <td>B003Y5C132</td>\n",
       "      <td>Chalupa monkey</td>\n",
       "      <td>[0, 0]</td>\n",
       "      <td>watertight has a nice solid rubber seal I woul...</td>\n",
       "      <td>5</td>\n",
       "      <td>ammo can</td>\n",
       "      <td>1356393600</td>\n",
       "      <td>12 25, 2012</td>\n",
       "    </tr>\n",
       "  </tbody>\n",
       "</table>\n",
       "<p>200000 rows × 9 columns</p>\n",
       "</div>"
      ],
      "text/plain": [
       "            reviewerID        asin                    reviewerName helpful  \\\n",
       "0         AIXZKN4ACSKI  1881509818                    David Briner  [0, 0]   \n",
       "1       A1L5P841VIO02V  1881509818                 Jason A. Kramer  [1, 1]   \n",
       "2        AB2W04NI4OEAD  1881509818                      J. Fernald  [2, 2]   \n",
       "3       A148SVSWKTJKU6  1881509818  Jusitn A. Watts \"Maverick9614\"  [0, 0]   \n",
       "4        AAAWJ6LW9WMOO  1881509818                    Material Man  [0, 0]   \n",
       "...                ...         ...                             ...     ...   \n",
       "199995  A15B3F1CO7JBYW  B003Y5AGCA                     Tim Schrage  [0, 0]   \n",
       "199996  A3KCX0DU4ZF439  B003Y5C132                   Apex Predator  [0, 4]   \n",
       "199997  A3V16CPB7YE3VD  B003Y5C132                           A-WAX  [2, 2]   \n",
       "199998  A379VGIWYYYK2M  B003Y5C132                        BackBone  [0, 0]   \n",
       "199999   ACONUV5L0KG6Z  B003Y5C132                  Chalupa monkey  [0, 0]   \n",
       "\n",
       "                                               reviewText  overall  \\\n",
       "0       This came in on time and I am veru happy with ...        5   \n",
       "1       I had a factory Glock tool that I was using fo...        5   \n",
       "2       If you don't have a 3/32 punch or would like t...        4   \n",
       "3       This works no better than any 3/32 punch you w...        4   \n",
       "4       I purchased this thinking maybe I need a speci...        4   \n",
       "...                                                   ...      ...   \n",
       "199995  Solidly enough made to accomodate a Hi-Point ....        4   \n",
       "199996  Nothing to really say. It looks like the pictu...        5   \n",
       "199997  Arrived on time. The inside looks wonderful. W...        1   \n",
       "199998  Holds all my ammo just perfect. I put 12 gage ...        5   \n",
       "199999  watertight has a nice solid rubber seal I woul...        5   \n",
       "\n",
       "                                        summary  unixReviewTime   reviewTime  \n",
       "0                                Woks very good      1390694400  01 26, 2014  \n",
       "1             Works as well as the factory tool      1328140800   02 2, 2012  \n",
       "2                     It's a punch, that's all.      1330387200  02 28, 2012  \n",
       "3               It's a punch with a Glock logo.      1328400000   02 5, 2012  \n",
       "4       Ok,tool does what a regular punch does.      1366675200  04 23, 2013  \n",
       "...                                         ...             ...          ...  \n",
       "199995                              Works great      1381363200  10 10, 2013  \n",
       "199996                                  Perfect      1318464000  10 13, 2011  \n",
       "199997                              RUSTED OUT!      1386028800   12 3, 2013  \n",
       "199998                                 Perfect.      1371945600  06 23, 2013  \n",
       "199999                                 ammo can      1356393600  12 25, 2012  \n",
       "\n",
       "[200000 rows x 9 columns]"
      ]
     },
     "execution_count": 21,
     "metadata": {},
     "output_type": "execute_result"
    }
   ],
   "source": [
    "check_df = df.head(200000)\n",
    "check_df"
   ]
  },
  {
   "cell_type": "code",
   "execution_count": 22,
   "id": "f3fab0fb",
   "metadata": {
    "scrolled": false
   },
   "outputs": [
    {
     "data": {
      "application/vnd.jupyter.widget-view+json": {
       "model_id": "7d5c6f5829464ce0b1e0c1446f150bb8",
       "version_major": 2,
       "version_minor": 0
      },
      "text/plain": [
       "  0%|          | 0/200000 [00:00<?, ?it/s]"
      ]
     },
     "metadata": {},
     "output_type": "display_data"
    },
    {
     "data": {
      "text/plain": [
       "0         [this, came, in, on, time, and, am, veru, happ...\n",
       "1         [had, factory, glock, tool, that, was, using, ...\n",
       "2         [if, you, don, have, punch, or, would, like, t...\n",
       "3         [this, works, no, better, than, any, punch, yo...\n",
       "4         [purchased, this, thinking, maybe, need, speci...\n",
       "                                ...                        \n",
       "199995    [solidly, enough, made, to, accomodate, hi, po...\n",
       "199996    [nothing, to, really, say, it, looks, like, th...\n",
       "199997    [arrived, on, time, the, inside, looks, wonder...\n",
       "199998    [holds, all, my, ammo, just, perfect, put, gag...\n",
       "199999    [watertight, has, nice, solid, rubber, seal, w...\n",
       "Name: reviewText, Length: 200000, dtype: object"
      ]
     },
     "execution_count": 22,
     "metadata": {},
     "output_type": "execute_result"
    }
   ],
   "source": [
    "review_text = check_df.reviewText.progress_apply(gensim.utils.simple_preprocess)\n",
    "review_text"
   ]
  },
  {
   "cell_type": "code",
   "execution_count": 23,
   "id": "f183d35b",
   "metadata": {},
   "outputs": [
    {
     "data": {
      "application/vnd.jupyter.widget-view+json": {
       "model_id": "e3dfa7b957d64b2da6a4d10177ea42d0",
       "version_major": 2,
       "version_minor": 0
      },
      "text/plain": [
       "  0%|          | 0/200000 [00:00<?, ?it/s]"
      ]
     },
     "metadata": {},
     "output_type": "display_data"
    },
    {
     "data": {
      "text/plain": [
       "0         [thi, came, in, on, time, and, am, veru, happi...\n",
       "1         [had, factori, glock, tool, that, wa, use, for...\n",
       "2         [if, you, don, have, punch, or, would, like, t...\n",
       "3         [thi, work, no, better, than, ani, punch, you,...\n",
       "4         [purchas, thi, think, mayb, need, special, too...\n",
       "                                ...                        \n",
       "199995    [solidli, enough, made, to, accomod, hi, point...\n",
       "199996    [noth, to, realli, say, it, look, like, the, p...\n",
       "199997    [arriv, on, time, the, insid, look, wonder, wi...\n",
       "199998    [hold, all, my, ammo, just, perfect, put, gage...\n",
       "199999    [watertight, ha, nice, solid, rubber, seal, wo...\n",
       "Name: reviewText, Length: 200000, dtype: object"
      ]
     },
     "execution_count": 23,
     "metadata": {},
     "output_type": "execute_result"
    }
   ],
   "source": [
    "stemmer = PorterStemmer()\n",
    "stemmed = review_text.progress_apply(lambda x: [stemmer.stem(y) for y in x])\n",
    "stemmed"
   ]
  },
  {
   "cell_type": "code",
   "execution_count": 24,
   "id": "891c1827",
   "metadata": {},
   "outputs": [],
   "source": [
    "model = gensim.models.Word2Vec(\n",
    "    window=10,\n",
    "    min_count=2,\n",
    "    workers=3,\n",
    ")"
   ]
  },
  {
   "cell_type": "code",
   "execution_count": 32,
   "id": "72a3de17",
   "metadata": {},
   "outputs": [],
   "source": [
    "model.build_vocab(stemmed, progress_per=1000)"
   ]
  },
  {
   "cell_type": "code",
   "execution_count": 34,
   "id": "1beea8cc",
   "metadata": {},
   "outputs": [
    {
     "data": {
      "text/plain": [
       "200000"
      ]
     },
     "execution_count": 34,
     "metadata": {},
     "output_type": "execute_result"
    }
   ],
   "source": [
    "model.corpus_count"
   ]
  },
  {
   "cell_type": "code",
   "execution_count": 35,
   "id": "9cb67a0b",
   "metadata": {},
   "outputs": [
    {
     "data": {
      "text/plain": [
       "(59025043, 79348500)"
      ]
     },
     "execution_count": 35,
     "metadata": {},
     "output_type": "execute_result"
    }
   ],
   "source": [
    "model.train(stemmed, total_examples=model.corpus_count, epochs=model.epochs)"
   ]
  },
  {
   "cell_type": "code",
   "execution_count": 36,
   "id": "f40293ce",
   "metadata": {},
   "outputs": [],
   "source": [
    "model.save(\"./word2vec_test.model\")"
   ]
  },
  {
   "cell_type": "code",
   "execution_count": 46,
   "id": "b88b0de4",
   "metadata": {},
   "outputs": [
    {
     "data": {
      "text/plain": [
       "[('decent', 0.863539457321167),\n",
       " ('great', 0.7678033113479614),\n",
       " ('nice', 0.6867431998252869),\n",
       " ('fantast', 0.6789023876190186),\n",
       " ('excel', 0.6010145545005798),\n",
       " ('high', 0.5832275152206421),\n",
       " ('awesom', 0.5528854727745056),\n",
       " ('superb', 0.5227035284042358),\n",
       " ('sweet', 0.5150555372238159),\n",
       " ('fair', 0.512129008769989)]"
      ]
     },
     "execution_count": 46,
     "metadata": {},
     "output_type": "execute_result"
    }
   ],
   "source": [
    "model.wv.most_similar(\"good\")"
   ]
  },
  {
   "cell_type": "code",
   "execution_count": 41,
   "id": "a938cb26",
   "metadata": {},
   "outputs": [
    {
     "data": {
      "text/plain": [
       "0.7678033"
      ]
     },
     "execution_count": 41,
     "metadata": {},
     "output_type": "execute_result"
    }
   ],
   "source": [
    "model.wv.similarity(w1=\"good\", w2=\"great\")"
   ]
  },
  {
   "cell_type": "code",
   "execution_count": 45,
   "id": "22624d74",
   "metadata": {},
   "outputs": [
    {
     "data": {
      "text/plain": [
       "-0.07017534"
      ]
     },
     "execution_count": 45,
     "metadata": {},
     "output_type": "execute_result"
    }
   ],
   "source": [
    "model.wv.similarity(w1=\"slow\", w2=\"eight\")"
   ]
  }
 ],
 "metadata": {
  "kernelspec": {
   "display_name": "Python 3",
   "language": "python",
   "name": "python3"
  },
  "language_info": {
   "codemirror_mode": {
    "name": "ipython",
    "version": 3
   },
   "file_extension": ".py",
   "mimetype": "text/x-python",
   "name": "python",
   "nbconvert_exporter": "python",
   "pygments_lexer": "ipython3",
   "version": "3.8.8"
  }
 },
 "nbformat": 4,
 "nbformat_minor": 5
}
